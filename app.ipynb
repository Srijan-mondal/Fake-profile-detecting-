{
 "cells": [
  {
   "cell_type": "code",
   "execution_count": 2,
   "metadata": {},
   "outputs": [
    {
     "name": "stdout",
     "output_type": "stream",
     "text": [
      " * Serving Flask app '__main__'\n",
      " * Debug mode: on\n"
     ]
    },
    {
     "name": "stderr",
     "output_type": "stream",
     "text": [
      "WARNING: This is a development server. Do not use it in a production deployment. Use a production WSGI server instead.\n",
      " * Running on http://127.0.0.1:5000\n",
      "Press CTRL+C to quit\n"
     ]
    }
   ],
   "source": [
    "from flask import Flask, render_template, request, url_for\n",
    "import joblib\n",
    "\n",
    "app = Flask(__name__, static_url_path='/static')\n",
    "\n",
    "# Load the trained model and scaler\n",
    "model = joblib.load('logistic_regression_model.joblib')\n",
    "scaler = joblib.load('standard_scaler.joblib')\n",
    "\n",
    "@app.route('/')\n",
    "def home():\n",
    "    return render_template('index.html')\n",
    "\n",
    "@app.route('/predict', methods=['POST'])\n",
    "def predict():\n",
    "    if request.method == 'POST':\n",
    "        features = [\n",
    "            float(request.form['profile_pic']),\n",
    "            float(request.form['nums_length_username']),\n",
    "            float(request.form['fullname_words']),\n",
    "            float(request.form['nums_length_fullname']),\n",
    "            float(request.form['name_equals_username']),\n",
    "            float(request.form['description_length']),\n",
    "            float(request.form['external_URL']),\n",
    "            float(request.form['private']),\n",
    "            float(request.form['#posts']),\n",
    "            float(request.form['#followers']),\n",
    "            float(request.form['#follows'])\n",
    "        ]\n",
    "\n",
    "        # Scale the input features\n",
    "        scaled_features = scaler.transform([features])\n",
    "\n",
    "        # Make prediction\n",
    "        prediction = model.predict(scaled_features)[0]\n",
    "\n",
    "        return render_template('result.html', prediction=prediction)\n",
    "\n",
    "# Run the app without the reloader if running in a Jupyter Notebook\n",
    "if __name__ == '__main__':\n",
    "    import os\n",
    "    if 'ipykernel' in os.environ.get('JPY_PARENT_PID', ''):\n",
    "        app.run(debug=True)\n",
    "    else:\n",
    "        app.run(debug=True, use_reloader=False)\n"
   ]
  }
 ],
 "metadata": {
  "kernelspec": {
   "display_name": "Python 3",
   "language": "python",
   "name": "python3"
  },
  "language_info": {
   "codemirror_mode": {
    "name": "ipython",
    "version": 3
   },
   "file_extension": ".py",
   "mimetype": "text/x-python",
   "name": "python",
   "nbconvert_exporter": "python",
   "pygments_lexer": "ipython3",
   "version": "3.9.13"
  }
 },
 "nbformat": 4,
 "nbformat_minor": 2
}
